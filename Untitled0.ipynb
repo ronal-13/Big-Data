{
  "nbformat": 4,
  "nbformat_minor": 0,
  "metadata": {
    "colab": {
      "provenance": [],
      "include_colab_link": true
    },
    "kernelspec": {
      "name": "python3",
      "display_name": "Python 3"
    },
    "language_info": {
      "name": "python"
    }
  },
  "cells": [
    {
      "cell_type": "markdown",
      "metadata": {
        "id": "view-in-github",
        "colab_type": "text"
      },
      "source": [
        "<a href=\"https://colab.research.google.com/github/ronal-13/Big-Data/blob/main/Untitled0.ipynb\" target=\"_parent\"><img src=\"https://colab.research.google.com/assets/colab-badge.svg\" alt=\"Open In Colab\"/></a>"
      ]
    },
    {
      "cell_type": "code",
      "source": [
        "Cliente_path = '/content/DimCliente.csv'"
      ],
      "metadata": {
        "id": "aaeauGw7CsoS"
      },
      "execution_count": null,
      "outputs": []
    },
    {
      "cell_type": "code",
      "source": [
        "Empleado_path = '/content/DimEmpleado.csv'"
      ],
      "metadata": {
        "id": "vFLykVW_CsT7"
      },
      "execution_count": null,
      "outputs": []
    },
    {
      "cell_type": "code",
      "source": [
        "FP_path = '/content/DimFP.csv'"
      ],
      "metadata": {
        "id": "Te2Rk9LwCxFP"
      },
      "execution_count": null,
      "outputs": []
    },
    {
      "cell_type": "code",
      "source": [
        "Marca_path = '/content/DimMarca.csv'"
      ],
      "metadata": {
        "id": "LbCqV1h9CxBf"
      },
      "execution_count": null,
      "outputs": []
    },
    {
      "cell_type": "code",
      "source": [
        "Mes_path = '/content/DimMes.csv'"
      ],
      "metadata": {
        "id": "qrpBHWFbCw6U"
      },
      "execution_count": null,
      "outputs": []
    },
    {
      "cell_type": "code",
      "source": [
        "Producto_path = '/content/DimProducto.csv'"
      ],
      "metadata": {
        "id": "TED_fXnCC_PD"
      },
      "execution_count": null,
      "outputs": []
    },
    {
      "cell_type": "code",
      "source": [
        "Categoria_path = '/content/DimCategoria.csv'"
      ],
      "metadata": {
        "id": "NnUCBSc5PBZV"
      },
      "execution_count": null,
      "outputs": []
    },
    {
      "cell_type": "code",
      "source": [
        "SubCategoria_path = '/content/DimSubCategoria.csv'"
      ],
      "metadata": {
        "id": "YEUKiZ7bC_Lb"
      },
      "execution_count": null,
      "outputs": []
    },
    {
      "cell_type": "code",
      "source": [
        "Tiempo_path = '/content/DimTiempo.csv'"
      ],
      "metadata": {
        "id": "QRN6LQKeC_Fb"
      },
      "execution_count": null,
      "outputs": []
    },
    {
      "cell_type": "code",
      "source": [
        "Venta_path = '/content/facVentas.csv'"
      ],
      "metadata": {
        "id": "BuO8wrMeDKEE"
      },
      "execution_count": null,
      "outputs": []
    },
    {
      "cell_type": "markdown",
      "source": [],
      "metadata": {
        "id": "gRjhdDd9Ciui"
      }
    },
    {
      "cell_type": "code",
      "source": [
        "from google.colab import auth\n",
        "auth.authenticate_user()\n",
        "print('Authenticated')"
      ],
      "metadata": {
        "colab": {
          "base_uri": "https://localhost:8080/"
        },
        "id": "L7_Lxj1MEEK-",
        "outputId": "90140ff9-4dc8-4f8c-e741-b28932b7db43"
      },
      "execution_count": null,
      "outputs": [
        {
          "output_type": "stream",
          "name": "stdout",
          "text": [
            "Authenticated\n"
          ]
        }
      ]
    },
    {
      "cell_type": "code",
      "metadata": {
        "id": "47d10bc8"
      },
      "source": [
        "from google.cloud import bigquery\n",
        "import pandas as pd\n",
        "\n",
        "client = bigquery.Client(project='trabajofinal-468304')\n",
        "job_config = bigquery.LoadJobConfig(\n",
        "    write_disposition = \"WRITE_TRUNCATE\"\n",
        "    )"
      ],
      "execution_count": null,
      "outputs": []
    },
    {
      "cell_type": "code",
      "source": [
        "# Load DimCliente\n",
        "table_id = \"Venta.DimCliente\"\n",
        "cliente_df = pd.read_csv(Cliente_path)\n",
        "job = client.load_table_from_dataframe(cliente_df, table_id, job_config=job_config)\n",
        "job.result()\n",
        "print(f\"Loaded {table_id}. Rows: {client.get_table(table_id).num_rows}\")\n",
        "\n",
        "\n",
        "# Load DimEmpleado\n",
        "table_id = \"Venta.DimEmpleado\"\n",
        "empleado_df = pd.read_csv(Empleado_path)\n",
        "job = client.load_table_from_dataframe(empleado_df, table_id, job_config=job_config)\n",
        "job.result()\n",
        "print(f\"Loaded {table_id}. Rows: {client.get_table(table_id).num_rows}\")\n",
        "\n",
        "# Load DimFP\n",
        "table_id = \"Venta.DimFP\"\n",
        "fp_df = pd.read_csv(FP_path)\n",
        "job = client.load_table_from_dataframe(fp_df, table_id, job_config=job_config)\n",
        "job.result()\n",
        "print(f\"Loaded {table_id}. Rows: {client.get_table(table_id).num_rows}\")\n",
        "\n",
        "# Load DimMarca\n",
        "table_id = \"Venta.DimMarca\"\n",
        "marca_df = pd.read_csv(Marca_path)\n",
        "job = client.load_table_from_dataframe(marca_df, table_id, job_config=job_config)\n",
        "job.result()\n",
        "print(f\"Loaded {table_id}. Rows: {client.get_table(table_id).num_rows}\")\n",
        "\n",
        "# Load DimMes\n",
        "table_id = \"Venta.DimMes\"\n",
        "mes_df = pd.read_csv(Mes_path)\n",
        "job = client.load_table_from_dataframe(mes_df, table_id, job_config=job_config)\n",
        "job.result()\n",
        "print(f\"Loaded {table_id}. Rows: {client.get_table(table_id).num_rows}\")\n",
        "\n",
        "# Load DimProducto\n",
        "table_id = \"Venta.DimProducto\"\n",
        "producto_df = pd.read_csv(Producto_path)\n",
        "job = client.load_table_from_dataframe(producto_df, table_id, job_config=job_config)\n",
        "job.result()\n",
        "print(f\"Loaded {table_id}. Rows: {client.get_table(table_id).num_rows}\")\n",
        "\n",
        "# Load DimSubCategoria\n",
        "table_id = \"Venta.DimSubCategoria\"\n",
        "categoria_df = pd.read_csv(Categoria_path)\n",
        "job = client.load_table_from_dataframe(categoria_df, table_id, job_config=job_config)\n",
        "job.result()\n",
        "print(f\"Loaded {table_id}. Rows: {client.get_table(table_id).num_rows}\")\n",
        "\n",
        "# Load DimTiempo\n",
        "table_id = \"Venta.DimTiempo\"\n",
        "tiempo_df = pd.read_csv(Tiempo_path)\n",
        "job = client.load_table_from_dataframe(tiempo_df, table_id, job_config=job_config)\n",
        "job.result()\n",
        "print(f\"Loaded {table_id}. Rows: {client.get_table(table_id).num_rows}\")\n",
        "\n",
        "# Load facVentas\n",
        "table_id = \"Venta.facVentas\"\n",
        "venta_df = pd.read_csv(Venta_path)\n",
        "job = client.load_table_from_dataframe(venta_df, table_id, job_config=job_config)\n",
        "job.result()\n",
        "print(f\"Loaded {table_id}. Rows: {client.get_table(table_id).num_rows}\")\n",
        "\n",
        "# Load DimCategoria\n",
        "table_id = \"Venta.DimCategoria\"\n",
        "categoria_df = pd.read_csv(Categoria_path)\n",
        "job = client.load_table_from_dataframe(categoria_df, table_id, job_config=job_config)\n",
        "job.result()\n",
        "print(f\"Loaded {table_id}. Rows: {client.get_table(table_id).num_rows}\")"
      ],
      "metadata": {
        "colab": {
          "base_uri": "https://localhost:8080/"
        },
        "id": "3Px1GpzbPPgk",
        "outputId": "cf1965cf-13e7-48ae-ed4e-080bacf5e84e"
      },
      "execution_count": null,
      "outputs": [
        {
          "output_type": "stream",
          "name": "stdout",
          "text": [
            "Loaded Venta.DimCliente. Rows: 30\n",
            "Loaded Venta.DimEmpleado. Rows: 20\n",
            "Loaded Venta.DimFP. Rows: 10\n",
            "Loaded Venta.DimMarca. Rows: 42\n",
            "Loaded Venta.DimMes. Rows: 12\n",
            "Loaded Venta.DimProducto. Rows: 40\n",
            "Loaded Venta.DimSubCategoria. Rows: 10\n",
            "Loaded Venta.DimTiempo. Rows: 40\n",
            "Loaded Venta.facVentas. Rows: 41\n",
            "Loaded Venta.DimCategoria. Rows: 10\n"
          ]
        }
      ]
    }
  ]
}